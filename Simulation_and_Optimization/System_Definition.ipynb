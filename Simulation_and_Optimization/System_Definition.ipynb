{
 "cells": [
  {
   "cell_type": "markdown",
   "metadata": {
    "nteract": {
     "transient": {
      "deleting": false
     }
    }
   },
   "source": [
    "The purpose of this file is to gather all input variables, design parameters, and actual constants in one place. Many of these remain constant from revision to revision, and usually a change to one of these entails another round of optimization and a new canonical description. In tandem with a canonical description, this file should unambiguously define LV4 to a sufficient level of precision for actual engineering work to be done.\n",
    "\n",
    "The other programs in this folder then have access to all the same information without us having to pass copious amounts of parameters around. Additionally, all of our required imports can be centralized here. There are also some functions defined here which are of use to multiple programs.\n"
   ]
  },
  {
   "cell_type": "markdown",
   "metadata": {},
   "source": [
    "### Imports"
   ]
  },
  {
   "cell_type": "code",
   "execution_count": 1,
   "metadata": {
    "jupyter": {
     "outputs_hidden": false,
     "source_hidden": false
    },
    "nteract": {
     "transient": {
      "deleting": false
     }
    }
   },
   "outputs": [],
   "source": [
    "#from hanging_threads import start_monitoring\n",
    "#start_monitoring(seconds_frozen=10, test_interval=100)\n",
    "#import faulthandler\n",
    "#faulthandler.enable()\n",
    "#openrocket_interface imports\n",
    "from math import pi, log, sqrt, exp, cos, sin, radians\n",
    "import os\n",
    "import contextlib\n",
    "from sys import platform as _platform\n",
    "import xml.etree.ElementTree as ET # xml library\n",
    "from zipfile import ZipFile\n",
    "\n",
    "#trajectory imports\n",
    "from types import SimpleNamespace\n",
    "import numpy as np\n",
    "import math\n",
    "import csv\n",
    "import copy\n",
    "from datetime import datetime\n",
    "import nrlmsise00, pyhwm2014\n",
    "\n",
    "#optimizer imports\n",
    "from scipy.optimize import minimize, differential_evolution, shgo, Bounds\n",
    "import pylab\n",
    "import matplotlib\n",
    "import matplotlib.pyplot as plt\n",
    "from mpl_toolkits.mplot3d import Axes3D\n",
    "from matplotlib import rc\n",
    "\n",
    "import rbfopt\n",
    "\n",
    "global PROPELLANT_SET\n",
    "%run Propellant_Optimization.ipynb"
   ]
  },
  {
   "cell_type": "markdown",
   "metadata": {},
   "source": [
    "### Constants"
   ]
  },
  {
   "cell_type": "code",
   "execution_count": 2,
   "metadata": {},
   "outputs": [],
   "source": [
    "# Physics, chemistry, and materials\n",
    "G_N      = 9.80665  # kg.m/s^2     Standard gravity\n",
    "R_UNIV   = 8314.46261815324 # universal gas constant, J/ (K * kmol)\n",
    "M_PER_IN = 0.0254 # meters per inch"
   ]
  },
  {
   "cell_type": "markdown",
   "metadata": {},
   "source": [
    "### Materials"
   ]
  },
  {
   "cell_type": "code",
   "execution_count": 3,
   "metadata": {
    "jupyter": {
     "outputs_hidden": false,
     "source_hidden": false
    },
    "nteract": {
     "transient": {
      "deleting": false
     }
    }
   },
   "outputs": [],
   "source": [
    "def Material(name, rho, mm=None, mu=None, Sy=None, Su=None, p_v=None):\n",
    "    return { 'name': name,\n",
    "             'rho': rho, # kg/m^3       Density\n",
    "             'mu': mu, # Ns/m^2 Dynamic Viscosity\n",
    "             'mm': mm, # g/mol Molar Mass\n",
    "             'Sy': Sy, # Pa           Yield strength\n",
    "             'Su': Su, # Pa           ultimate tensile strength\n",
    "             'p_v': p_v} # Pa operating P_v\n",
    "\n",
    "# Materials\n",
    "# https://www.aircraftspruce.com/catalog/cmpages/anh4120honeycomb01-01574.php?clickkey=5444217\n",
    "# note: i've calculated ~395 kg/m^3 for uniform airframe density based on our density/thickness estimates.\n",
    "#       however, measurement of LV3.1 module says module is around 130 kg/m^3. Not sure why these don't agree.\n",
    "NOMEX      = Material('Nomex', 48.06)\n",
    "CRYOGEL    = Material('Cryogel', 160)\n",
    "#FIBERGLASS = Material('Fiberglass', 1850, Sy=0.2068e9) # don't know where it came from\n",
    "FIBERGLASS = Material('Fiberglass', 2460, Sy=0.2068e9) # from airframe team CAD\n",
    "ALUM       = Material('Aluminum 6061-T6', 2800.0, Sy=0.270e9, Su=0.31e9)\n",
    "#CFIBER     = Material('Carbon Fiber', 1550.0, Sy=0.450e9) # density from internet\n",
    "CFIBER     = Material('Carbon Fiber', 1990.0, Sy=0.450e9) # what airframe team uses for CAD\n",
    "LOX        = Material('LOX', 1141.0, mu=0.000009, p_v=8000) # kg/m^3  Density of LOX\n",
    "#IPA        = Material('IPA/H20', 849.28) # kg/m^3  Density of 64.8% IPA / 35.2% H20\n",
    "IPA        = Material('IPA', 786) # kg/m^3  Density of 64.8% IPA / 35.2% H20\n",
    "H20        = Material('H20', 999.8) # kg/m^3  Density of 64.8% IPA / 35.2% H20\n",
    "FUEL       = Material('IPA/H20', 0.648* IPA['rho'] + 0.352 * H20['rho'],\n",
    "                     mu=0.00192, p_v=8840) # kg/m^3  Density of 64.8% IPA / 35.2% H20\n",
    "# Nitrogen characteristics\n",
    "# https://github.com/psas/reaction-control/blob/master/pubs/AIAA%20RCS%20Manuscript_FINAL2.pdf\n",
    "N2_TEMP = 298.15 # K, holding this constant is sketchy but easy\n",
    "N2_MM   = 28.01 # nitrogen molecular mass [g/mol]\n",
    "N2_KE   = 1.4 # nitrogen specific heat ratio\n",
    "\n",
    "# Helium characteristics\n",
    "HE4_TEMP = 298.15 # K\n",
    "HE4_MM   = 4.003 # g/mol\n",
    "HE4_KE   = 1.66\n",
    "\n",
    "ENG_P_CH = 783649.1830 # chamber pressure, PSI\n",
    "\n",
    "MANUAL_PROP_CALCS = False\n",
    "if not PROPELLANT_SET:\n",
    "    if MANUAL_PROP_CALCS:\n",
    "        # combustion gas properties ke, Re, T_ch, determined from CEArun\n",
    "        # with chamber pressure=350 psi, fuel temp=419.15 K, \n",
    "        #      lox temp=90 K, OF=1.3 for fuel = 64.8% IPA (2propanol) / 35.2% H20\n",
    "        OF       = 1.3        # O/F ratio, this is somewhat arbitrary but CEA says its good. \n",
    "        ENG_T_CH = 3097.82 # chamber temperature, K\n",
    "        ENG_KE   = 1.1251 # specific heat ratio, propellant (aka gammas)\n",
    "        ENG_MM   = 23.196 # molar mass\n",
    "    else:\n",
    "        IPA_WT, OF, ENG_P_CH, ENG_T_CH, ENG_MM, ENG_KE, _ = propellant_optimizer(ENG_P_CH)\n",
    "        FUEL       = Material('IPA/H20', IPA_WT/100* IPA['rho'] + (100 - IPA_WT)/100 * H20['rho'],\n",
    "                             mu=0.00192, p_v=8840) # kg/m^3  Density of 64.8% IPA / 35.2% H20"
   ]
  },
  {
   "cell_type": "markdown",
   "metadata": {},
   "source": [
    "### Launch Parameters"
   ]
  },
  {
   "cell_type": "code",
   "execution_count": 4,
   "metadata": {
    "jupyter": {
     "outputs_hidden": false,
     "source_hidden": false
    },
    "nteract": {
     "transient": {
      "deleting": false
     }
    }
   },
   "outputs": [],
   "source": [
    "# Launch constants\n",
    "# Vertical Launch at Alkali Lake\n",
    "LAUNCH_SITE_ALT = 1299 # m, altitude of launch site above sea level, from freemaptools.com/elevation-finder.htm\n",
    "LAUNCH_TOWER    = 9.8 # launch rail height in m\n",
    "LAUNCH_SITE_LOC = [42.977691975376736, -120.02818928644571] # dec deg N, E from google maps\n",
    "AZ_PERTURB = 1\n",
    "EL_PERTURB = 0.3421796303215663"
   ]
  },
  {
   "cell_type": "markdown",
   "metadata": {},
   "source": [
    "# System Definition"
   ]
  },
  {
   "cell_type": "markdown",
   "metadata": {},
   "source": [
    "### Isogrid Parameters"
   ]
  },
  {
   "cell_type": "code",
   "execution_count": 5,
   "metadata": {},
   "outputs": [],
   "source": [
    "TANK_IN_DIA     = 11.5 * M_PER_IN # propellant tank inner diameter, m\n",
    "TANK_IN_RAD     = TANK_IN_DIA * 0.5 # propellant tank inner radius, m\n",
    "TANK_THICK      = 0.25 * M_PER_IN # propellant tank thickness, m\n",
    "WELD_TENS_STR   = 1.655e8 / 4 # Pa, alum 6061-T6 welded tensile strength\n",
    "TANK_OD         = TANK_IN_DIA + 2 * TANK_THICK\n",
    "SKIN_T          = 0.05 * M_PER_IN #0.00127 # m\n",
    "INSULTN_THKNS   = TANK_THICK - SKIN_T\n",
    "RIB_DEPTH       = INSULTN_THKNS - M_PER_IN * 0.05\n",
    "MIN_RIB_T       = 0.00127 # m\n",
    "DELTA           = RIB_DEPTH / SKIN_T # rib depth to skin thickness ratio, pg. 2.0.008\n",
    "\n",
    "RIB_T           = 0.00127 # m\n",
    "NUM_RADL_DVSNS  = 24 # number of triangles"
   ]
  },
  {
   "cell_type": "markdown",
   "metadata": {},
   "source": [
    "### Rocket Parameters"
   ]
  },
  {
   "cell_type": "code",
   "execution_count": 6,
   "metadata": {},
   "outputs": [],
   "source": [
    "CPLNG_RING_THK     = 0.00635 # m\n",
    "INNER_CF_THK       = 0.015 * M_PER_IN # m\n",
    "NOMEX_THK          = 0.125 * M_PER_IN # m\n",
    "OUTER_CF_THK       = 0.04 * M_PER_IN # m\n",
    "AIRFRAME_THICKNESS = INNER_CF_THK + NOMEX_THK + OUTER_CF_THK #0.00508 # m, (0.2 in)\n",
    "AIRFRM_IN_RAD   = TANK_OD * 0.5 - AIRFRAME_THICKNESS # rocket inner radius, m\n",
    "THROTTLE_WINDOW = (100., 500.) # lower and upper bounds of drag force (N) for throttling\n",
    "MIN_THROTTLE    = 1. # the internet says between 60 - 70% is doable without ruining our lives.\n",
    "NOSETIP         = 0.3533 #kg, estimated for aluminum nose tip. Add more as needed for stability.\n",
    "BALLAST         = 2"
   ]
  },
  {
   "cell_type": "markdown",
   "metadata": {},
   "source": [
    "### Fin Geometry"
   ]
  },
  {
   "cell_type": "code",
   "execution_count": 7,
   "metadata": {},
   "outputs": [],
   "source": [
    "FIN_ROOT        = 30 * M_PER_IN #0.7 # Root length, m\n",
    "FIN_TIP         = 13 * M_PER_IN #0.45 # tip length, m\n",
    "FIN_SEMISPAN    = 16 * M_PER_IN #0.4 # fin span/height, m\n",
    "FIN_SWEEP_ANGLE = np.radians(40) #np.radians(70) # sweep angle, degrees\n",
    "FIN_THICKNESS   = 0.125 * M_PER_IN #0.003175 # m, fin thickness from LV3.1\n",
    "FIN_ROOT_HEIGHT = 3.605 * M_PER_IN #0.082525 # height of bottom of fin root above base of rocket\n",
    "FIN_BRACKET     = 0.56382 # kg"
   ]
  },
  {
   "cell_type": "markdown",
   "metadata": {},
   "source": [
    "### RCS Parameters"
   ]
  },
  {
   "cell_type": "code",
   "execution_count": 8,
   "metadata": {
    "jupyter": {
     "outputs_hidden": false,
     "source_hidden": false
    },
    "nteract": {
     "transient": {
      "deleting": false
     }
    }
   },
   "outputs": [],
   "source": [
    "# low priority, find constraints for these and optimize\n",
    "# https://steelheadcomposites.com/composite-pressure-vessels/\n",
    "RCS_CONTROL = False # whether sims have RCS enabled\n",
    "RCS_MDOT    = 0.03784/3.15 # kg/s RCS nozzle mass flow rate\n",
    "RCS_P_E     = 101300 # Pa, RCS nozzle exit pressure\n",
    "RCS_P_CH    = 689476 # Pa, RCS chamber pressure\n",
    "MAX_N2_TANK_P   = 6.895e7 # Pa, N2 tank pressure (10k PSI)\n",
    "N2_TANK_OR  = 0.0825 # m, tank outer radius"
   ]
  },
  {
   "cell_type": "markdown",
   "metadata": {},
   "source": [
    "### Upper Subsystem Module Dimensions"
   ]
  },
  {
   "cell_type": "code",
   "execution_count": 9,
   "metadata": {},
   "outputs": [],
   "source": [
    "# if these change you will have to make changes in structure.ipynb\n",
    "CPLNG_RING_THK     = 0.00635 # m\n",
    "INNER_CF_THK       = 0.015 * M_PER_IN # m\n",
    "NOMEX_THK          = 0.125 * M_PER_IN # m\n",
    "OUTER_CF_THK       = 0.04 * M_PER_IN # m\n",
    "\n",
    "COUPLING_RING_HT   = 1.4 * M_PER_IN # m, space between composite modules (not actually used)\n",
    "HALF_CPL_RING      = 0.5 * COUPLING_RING_HT # m, half of assembly for ring, for metal-metal\n",
    "THREE_QTR_CPL_RING = 0.75 * COUPLING_RING_HT # m, half of assembly for ring, for metal-composite\n",
    "CON_NOSE_L         = 43.005 * M_PER_IN #1.1\n",
    "CYL_NOSE_L         = 1 * M_PER_IN\n",
    "NOSE_L             = CON_NOSE_L + CYL_NOSE_L       # m, with 1 foot cylinder at end\n",
    "ERS_L              = 4.5 * M_PER_IN  # m \n",
    "RCS_L              = 3.305 * M_PER_IN  # m \n",
    "CAM_L              = 3.305 * M_PER_IN  # m\n",
    "AV_L               = 15 * M_PER_IN # m\n",
    "N2_L               = 23.5 * M_PER_IN # m \n",
    "PAS_L              = 3.305 * M_PER_IN  # m , height metal passthru\n",
    "MICRO_L            = 9.5 * M_PER_IN # m, height micromodule between tanks\n",
    "FIN_CAN_L          = 35.5 * M_PER_IN # m, height of fin can module\n",
    "THRST_PLT          = 0.383 * M_PER_IN # m, height of thrust plate\n",
    "ENG_CLEARANCE      = 4.59 * M_PER_IN # m, height of thrust plate"
   ]
  },
  {
   "cell_type": "markdown",
   "metadata": {},
   "source": [
    "### Engine System Dimensions"
   ]
  },
  {
   "cell_type": "code",
   "execution_count": 10,
   "metadata": {},
   "outputs": [],
   "source": [
    "# m_' = mass, 'l_' = length\n",
    "# when you have time, these masses should transfer out of structures.ipynb and go into openrocket_interface.ipynb\n",
    "ULLAGE             = 1.1          # percentage of length added to a tank to account for not filling\n",
    "L_FEED             = 0.4572       # m, this is 18\"\n",
    "L_EMS              = 0.1016       # m, this is 4\" \n",
    "L_ENGINE           = 0.300        # m"
   ]
  },
  {
   "cell_type": "markdown",
   "metadata": {},
   "source": [
    "### Piping"
   ]
  },
  {
   "cell_type": "code",
   "execution_count": 11,
   "metadata": {},
   "outputs": [],
   "source": [
    "PIPE_THK      = 0.065 * M_PER_IN\n",
    "N2_PIPE_OD    = 0.5 * M_PER_IN\n",
    "FUEL_PIPE_OD  = 0.75 * M_PER_IN *1.5\n",
    "N2_PIPE_IR    = N2_PIPE_OD * 0.5 - PIPE_THK\n",
    "FUEL_PIPE_IR  = FUEL_PIPE_OD * 0.5 - PIPE_THK \n",
    "N2_TO_ENG_L   = 173.725 * M_PER_IN\n",
    "N2_TO_LOX_L   = 107.52 * M_PER_IN\n",
    "N2_TO_IPA_L   = 34.2 * M_PER_IN\n",
    "IPA_TO_ENG_L  = 80.5 * M_PER_IN"
   ]
  },
  {
   "cell_type": "markdown",
   "metadata": {},
   "source": [
    "### EFS System Parameters"
   ]
  },
  {
   "cell_type": "code",
   "execution_count": 12,
   "metadata": {},
   "outputs": [],
   "source": [
    "# EFS System parameters\n",
    "USE_EFS = False\n",
    "BAT_SPEC_POW       = 0.4 * 125 * 60 # W/kg, assuming 60 s operation time  (conservative est.)\n",
    "#https://hobbyking.com/en_us/turnigy-heavy-duty-5000mah-7s-60c-lipo-pack-w-xt90.html?queryID=&objectID=74820&indexName=hbk_live_magento_en_us_products\n",
    "MOT_SPEC_POW       = 0.4 * 9800 / (2.53 + 0.406) # W/kg, motor + ESC\n",
    "\n",
    "#https://hobbyking.com/en_us/turnigy-rotomax-150cc-size-brushless-outrunner-motor.html?queryID=&objectID=47150&indexName=hbk_live_magento_en_us_products_hbk_price_stock_2_group_0_desc\n",
    "#https://hobbyking.com/en_us/turnigy-fatboy-v2-300a-esc-4-15s-opto.html?queryID=&objectID=46320&indexName=hbk_live_magento_en_us_products_hbk_price_stock_2_group_0_desc\n",
    "LOX_TANK_P         = 1859818.5060 # Pa, lox tank pressure\n",
    "IPA_TANK_P         = 1530286.4229 # Pa, ipa tank pressure\n",
    "D_PIPE             = FUEL_PIPE_IR * 2 #0.0157  # m Plumbing Pipe Diameter\n",
    "A_PIPE             = np.pi/4 * D_PIPE**2 # m^2 Cross Sectional Area of Plumbing Pipe\n",
    "EPSILON_PIPE       = 1.5 *10**(-6) # m Drawn Tubing Relative Roughness\n",
    "PLUMBING_L_F       = 2.692 # m Length of Straight Pipe Section IPA\n",
    "PLUMBING_L_O       = 1.046 # m Length of Straight Pipe Section LOX\n",
    "UNDER_N2_M         = 6 # kg, FLIPS stuff here\n",
    "ABOVE_FUEL_M       = 6 # kg, FLIPS stuff here\n",
    "BETWEEN_TANKS_M    = 8 # kg, FLIPS stuff here\n",
    "PLUMBING_M         = 11 # kg, assumed mass of plumbing in fin can\n",
    "K_L                = 0.3 # Loss Coefficient for Regular Flanged 90\n",
    "PUMP_EFF           = 0.6 # pump efficiency\n",
    "U_SS               = 7000 # suction sp. speed\n",
    "FRIC_F             = 0.025 # Friction Factor for Isopropyl Alcohol\n",
    "FRIC_O             = 0.0149 # Friction Factor for Liquid Oxygen\n",
    "#h_LPintle          = -689.5*1000 # Pa Pressure Loss from Pintle (estimated)\n",
    "DELP_REGEN         = 0 #1.379 * 10**6 # Pa Guessed pressure loss from regenerative cooling channels (200 PSI)\n",
    "DELP_INJ_F         = 344.8588707*1000 # Pa Experimental Pressure Loss across Pintle\n",
    "DELP_INJ_O         = 689.5*1000 # Pa Experimental Pressure Loss across Pintle\n",
    "\n",
    "LFETS_PIPE_AREA    = np.pi * FUEL_PIPE_IR**2\n",
    "\n",
    "REGEN_F_COEFF = 0.07 # regen channel fric coeff (per Emilio)\n",
    "REGEN_D       = 3e-3  # m, regen channel hydraulic diameter\n",
    "REGEN_L       = 333e-3 #m, regen channel total length\n",
    "REGEN_N       = 75 # number of regenerative channels\n",
    "REGEN_MULT    = REGEN_F_COEFF * REGEN_L / (REGEN_D * 2)"
   ]
  },
  {
   "cell_type": "markdown",
   "metadata": {},
   "source": [
    "### Recovery System"
   ]
  },
  {
   "cell_type": "code",
   "execution_count": 13,
   "metadata": {},
   "outputs": [],
   "source": [
    "# drag coefficients of parachutes\n",
    "C_D_DROGUE = 0.97 # from rocketman\n",
    "C_D_MAIN = 2.2 # from rocketman"
   ]
  },
  {
   "cell_type": "markdown",
   "metadata": {},
   "source": [
    "# Simulation and Optimization Parameters"
   ]
  },
  {
   "cell_type": "code",
   "execution_count": 14,
   "metadata": {},
   "outputs": [],
   "source": [
    "DELTA      = 10**(-3)  # a guess at a good margin for design \"convergence\"\n",
    "MU_0       = 0.0025    # barrier parameter, this value lets altitudes approach lower bound pretty quickly\n",
    "RHO_0      = 5         # penalty parameter, i'm still playing with this value.\n",
    "DT         = 0.025      # change starting time-step for trajectory simulation\n",
    "ITERATIONS = 1         # number of escalating iteration sequences"
   ]
  },
  {
   "cell_type": "markdown",
   "metadata": {},
   "source": [
    "### Initial Design Guess"
   ]
  },
  {
   "cell_type": "code",
   "execution_count": 15,
   "metadata": {},
   "outputs": [],
   "source": [
    "# be sure that you start with a feasible design, otherwise the problem will be ill-conditioned\n",
    "M_PROP = 237.0335   # propellant mass (kg)\n",
    "MDOT   = 6.8475    # Propellant mass flow rate (kg/s)\n",
    "P_E    = 106525.5088  # Exit Pressure (Pa)\n",
    "\n",
    "# initial design vector\n",
    "X0 = np.array([M_PROP, MDOT, P_E, 0, FIN_ROOT, FIN_TIP, FIN_SWEEP_ANGLE, FIN_SEMISPAN, FIN_THICKNESS]) "
   ]
  },
  {
   "cell_type": "markdown",
   "metadata": {},
   "source": [
    "### Optimization Constraints"
   ]
  },
  {
   "cell_type": "code",
   "execution_count": 16,
   "metadata": {},
   "outputs": [],
   "source": [
    "CONS_IMPLS   = 889600                    # maximum impulse, N s\n",
    "CONS_AOA     = 8.                       # maximum angle of attack\n",
    "CONS_MASS    = 450.                      # GLOW constraint, kg, somewhat arbitrary\n",
    "CONS_LS      = 22.                       # min launch speed from 60' tower constraint, m/s\n",
    "CONS_TWR     = 2.                        # TWR constraint\n",
    "CONS_S_CRIT  = 0.35                      # Critical pressure ratio constraint\n",
    "CONS_ACCEL   = 15.                       # Max acceleration constraint, g's\n",
    "CONS_LD      = 25.                       # L/D ratio constraint, slightly arbitrary\n",
    "CONS_ALT     = 105000. #* 0.5                   # Min altitude constraint, m\n",
    "CONS_THRUST  = 10000                      # max ground-level thrust, N\n",
    "CONS_CEILING = 150000.                   # base-11 maximum apogee requirement, m\n",
    "CONS_STBLTY  = 2.0                       # minimum in flight stability margin caliber\n",
    "#CONS_EFS     = 11000                      # maximum EFS pump power, W\n",
    "CONS_EFS     = 0  # EFS is being removed\n",
    "CONS_V_LFETS = 9.144                    # maximum fluid velocity in test stand\n",
    "CONS_TANK_MIN = 689476 # Pa, minimum tank pressure (so FLIPS can use regulators)"
   ]
  },
  {
   "cell_type": "code",
   "execution_count": 17,
   "metadata": {
    "jupyter": {
     "outputs_hidden": false,
     "source_hidden": false
    },
    "nteract": {
     "transient": {
      "deleting": false
     }
    }
   },
   "outputs": [],
   "source": [
    "RKT_PREFIX = \"../rocket_farm/\" # the rockets live on a cute little farm upstate where they frolic in fields\n",
    "\n",
    "## Utility Functions\n",
    "# unpack rocket template temporarily\n",
    "def unzip():\n",
    "    with ZipFile('../LV4_canonical/template.ork') as myzip:\n",
    "        myzip.extract('rocket.ork')\n",
    "\n",
    "# package our new rocket and remove temporary template\n",
    "def zipit(index):\n",
    "    with ZipFile(RKT_PREFIX+'psas_rocket_'+index+'.ork', 'w') as myzip:\n",
    "        myzip.write('rocket.ork')\n",
    "    if 'linux' in _platform:\n",
    "        os.system('rm rocket.ork')\n",
    "    elif \"darwin\" in _platform:\n",
    "        os.system('rm rocket.ork')\n",
    "    elif \"win\" in _platform:\n",
    "        os.system('del rocket.ork')\n",
    "\n",
    "# pulls ALL file references from given directory\n",
    "def all_files(directory):\n",
    "    for path, dirs, files in os.walk(directory):\n",
    "        for f in sorted(files):\n",
    "            yield os.path.join(path, f)\n",
    "\n",
    "# counts how many rockets are in our directory and then increments by 1\n",
    "def get_index():\n",
    "    ork_files = [f for f in all_files(RKT_PREFIX)\n",
    "                   if f.endswith('.ork')]\n",
    "    return len(ork_files) + 1\n"
   ]
  },
  {
   "cell_type": "code",
   "execution_count": 18,
   "metadata": {
    "jupyter": {
     "outputs_hidden": false,
     "source_hidden": false
    },
    "nteract": {
     "transient": {
      "deleting": false
     }
    }
   },
   "outputs": [],
   "source": [
    "# Consider that there are two tanks, and we will want to divide total mass flow rate and propellant mass\n",
    "# oxygen first, fuel second\n",
    "def proportion(amount, OF):\n",
    "    stuff_o = amount * OF/(1 + OF)\n",
    "    stuff_f = amount * 1/(1 + OF)\n",
    "    return stuff_o, stuff_f\n",
    "    \n",
    "# this is hamilton's quaternion product\n",
    "def product(a, b):\n",
    "    v = b[0] * a[1:] + a[0] * b[1:] + np.cross(a[1:], b[1:])\n",
    "    return np.array([a[0] * b[0] - np.dot(a[1:], b[1:]), v[0], v[1], v[2]])\n",
    "\n",
    "# this is the inverse of a unit quat\n",
    "def conjugate(q):\n",
    "    return np.array([q[0], -q[1], -q[2], -q[3]])\n",
    "\n",
    "# this rotates a vector with a fixed frame\n",
    "def sandwich(q, v):\n",
    "    return product(q, product(np.array([0, v[0], v[1], v[2]]), conjugate(q)))[1:]\n",
    "\n",
    "# this rotates a frame with a fixed vector\n",
    "def frame_rotation(q, v):\n",
    "    return sandwich(conjugate(q), v)\n",
    "\n",
    "# this constrains a quat to S3 or vector to S2\n",
    "def normalize(q):\n",
    "    norm = np.linalg.norm(q)\n",
    "    norm = norm if norm !=0 else 1\n",
    "    return q / norm\n",
    "\n",
    "def eulerangle_to_quat(RA, dec, orientation):\n",
    "    '''Encodes star tracker's attitude representation as a quaternion in\n",
    "    3-2-1 order (yaw, pitch, roll). This quaternion transforms the inertial frame to the body frame.\n",
    "\n",
    "    :params: right ascenscion, declination, roll.\n",
    "    :returns: Quaternion representation of attitude.'''\n",
    "    RA = RA / 2\n",
    "    dec = dec / 2\n",
    "    ortn = orientation / 2\n",
    "    c_phi = np.cos(ortn)\n",
    "    s_phi = np.sin(ortn)\n",
    "    c_theta = np.cos(dec)\n",
    "    s_theta = np.sin(dec)\n",
    "    c_psi = np.cos(RA)\n",
    "    s_psi = np.sin(RA)\n",
    "    return np.array([c_phi * c_theta * c_psi  +  s_phi * s_theta * s_psi,\n",
    "                     s_phi * c_theta * c_psi  -  c_phi * s_theta * s_psi,\n",
    "                     c_phi * s_theta * c_psi  +  s_phi * c_theta * s_psi,\n",
    "                     c_phi * c_theta * s_psi  -  s_phi * s_theta * c_psi\n",
    "                     ])"
   ]
  },
  {
   "cell_type": "code",
   "execution_count": null,
   "metadata": {},
   "outputs": [],
   "source": []
  }
 ],
 "metadata": {
  "kernelspec": {
   "display_name": "Python 3 (ipykernel)",
   "language": "python",
   "name": "python3"
  },
  "language_info": {
   "codemirror_mode": {
    "name": "ipython",
    "version": 3
   },
   "file_extension": ".py",
   "mimetype": "text/x-python",
   "name": "python",
   "nbconvert_exporter": "python",
   "pygments_lexer": "ipython3",
   "version": "3.8.10"
  }
 },
 "nbformat": 4,
 "nbformat_minor": 1
}
