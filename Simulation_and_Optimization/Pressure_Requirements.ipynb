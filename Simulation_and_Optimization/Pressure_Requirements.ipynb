{
 "cells": [
  {
   "cell_type": "markdown",
   "metadata": {},
   "source": [
    "The purpose of this code is to determine the requirements for pressurant based on the specifications of downstream subsystems. Refer to Huzel and Huang for explanations."
   ]
  },
  {
   "cell_type": "code",
   "execution_count": 1,
   "metadata": {},
   "outputs": [],
   "source": [
    "# eq 5-1\n",
    "# p is pressure (Pa), v is volume (m^3), t_g is temp (K), z is compressibility factor, mm is molar mass (g/mol)\n",
    "# returns mass (kg). note these quantities are for pressurant.\n",
    "def mass(p, v, t_g, z, mm):\n",
    "    return p * v * z * mm / (R_UNIV * t_g)"
   ]
  },
  {
   "cell_type": "markdown",
   "metadata": {},
   "source": [
    "If we neglect heat and mass transfer, the ideal gas law (above) is sufficient. We next consider the case with heat transfer between pressurant and propellant, but not from tank walls."
   ]
  },
  {
   "cell_type": "code",
   "execution_count": 2,
   "metadata": {},
   "outputs": [],
   "source": [
    "# eq 5-2\n",
    "# h is heat transfer coefficient (J s^-1 m^-2 K^-1), a is area (m^2), t is duration (s),\n",
    "# t_u is temp of gas after expulsion (K), t_e is temp of propellant (K)\n",
    "# returns total heat transferred from pressurant gas to vaporized propellant (J)\n",
    "def Q_pres_to_vap_prop(h, a, t, t_u, t_e):\n",
    "    return h * a * t * (t_u - t_e)\n",
    "\n",
    "# eq 5-3\n",
    "# q is heat transferred (J), c_pl is specific heat of liquid propellant (J kg^-1 K^-1),\n",
    "# h_v is heat of vaporization of propellant (J / kg), c_pv is specific heat of propellant vapor (J kg^-1 K^-1),\n",
    "# t_v is vaporization temp of propellant (K), t_u is temp of gas after expulsion (K), t_e is temp of propellant (K)\n",
    "# returns mass of vaporized propellant (kg)\n",
    "def vap_prop_mass(q, c_pl, h_v, c_pv, t_v, t_u, t_e):\n",
    "    return q / (c_pl * (t_v - t_e) + h_v + c_pv * (t_u - t_v))\n",
    "\n",
    "# eq 5-4\n",
    "# m_v is mass of vaporized propellant (kg), z is compressibility factor of mixture, mm is molar mass of propellant vapor (g/mol),\n",
    "# t_u is temp of gas after expulsion (K), p is pressure after expulsion (Pa)\n",
    "# returns volume of vaporized propellant (m^3)\n",
    "def vap_prop_vol(m_v, z, mm, t_u, p):\n",
    "    return m_v * z * R_UNIV * t_u / (p * mm)\n",
    "\n",
    "# eq 5-7\n",
    "# m is mass of propellant (kg), c_pg is specific heat of pressurant (J kg^-1 K^-1),\n",
    "# t_u is temp of gas after expulsion (K), q is heat transferred (J)\n",
    "# returns required mean temperature of entering pressured (K)\n",
    "def gas_temp(m, c_pg, t_u, q):\n",
    "    return q / (m * c_pg) + t_u\n",
    "\n",
    "# eq 5-5, 5-6\n",
    "# returns required mass and temperature of pressurant assuming heat transfer only to propellant\n",
    "def pressurant_reqs_2(p_tank, v_tank, z_g, mm_g,\n",
    "                     h, a, t, t_u, t_e,\n",
    "                     c_pl, h_v, c_pv, t_v,\n",
    "                     z_p, mm_p,\n",
    "                     c_pg):\n",
    "    q   = Q_pres_to_vap_prop(h, a, t, t_u, t_e)\n",
    "    m_v = vap_prop_mass(q, c_pl, h_v, c_pv, t_v, t_u, t_e)\n",
    "    v_v = vap_prop_vol(m_v, z_p, mm_p, t_u, p_tank)\n",
    "    m_g = mass(p_tank, v_tank - v_v, t_u, z_g, mm_g)\n",
    "    t_g = gas_temp(m_g, c_pg, t_u, q)\n",
    "    return m_g, t_g"
   ]
  },
  {
   "cell_type": "markdown",
   "metadata": {},
   "source": [
    "If we include the effects of heat transfer between tank walls and propellant and pressurant, we obtain"
   ]
  },
  {
   "cell_type": "code",
   "execution_count": 3,
   "metadata": {},
   "outputs": [],
   "source": [
    "# eq 5-9, 5-10\n",
    "# be wary of signs of heat transfer, make sure you pick correct sign for situation\n",
    "# returns required mass and temperature of pressurant\n",
    "def pressurant_reqs_3(p_tank, v_tank, z_g, mm_g,\n",
    "                     h, a, t, t_u, t_e,\n",
    "                     c_pl, h_v, c_pv, t_v,\n",
    "                     z_p, mm_p,\n",
    "                     c_pg,\n",
    "                     q_g_tank, q_tank_p):\n",
    "    q   = Q_pres_to_vap_prop(h, a, t, t_u, t_e)\n",
    "    m_v = vap_prop_mass(q + q_tank_p, c_pl, h_v, c_pv, t_v, t_u, t_e)\n",
    "    v_v = vap_prop_vol(m_v, z_p, mm_p, t_u, p_tank)\n",
    "    m_g = mass(p_tank, v_tank - v_v, t_u, z_g, mm_g)\n",
    "    t_g = gas_temp(m_g, c_pg, t_u, q + q_g_tank)\n",
    "    return m_g, t_g"
   ]
  },
  {
   "cell_type": "markdown",
   "metadata": {},
   "source": [
    "Some of the relevant quantities can be obtained directly from the MDO.\n",
    "\n",
    "We must determine:\n",
    "* the compressibility factors of the pressurant (z_g) and the gaseous mixtures (z_p_lox, z_p_ipa).\n",
    "* specific heat at constant pressure of pressurant (c_pg)\n",
    "* molar masses of propellants (mm_lox, mm_ipa)\n",
    "* specific heats of liquid propellants (c_pl_lox, c_pl_ipa)\n",
    "* heats of vaporization of propellants (h_v_lox, h_v_ipa)\n",
    "* specific heats of propellant vapors (c_pv_lox, c_pv_ipa)\n",
    "* vaporization temperatures of propellants (t_v_lox, t_v_ipa)\n",
    "* heat transfer coefficients at gas-liquid interfaces (h_lox, h_ipa)\n",
    "* assumed temperature of gaseous mixtures after expulsion (t_u_lox, t_u_ipa)\n",
    "\n",
    "Some of these quantities may only depend on the choice of material. We are certainly using LOX for the oxidizer and IPA/H20 for the fuel, but we have not yet finalized the IPA/H20 ratio for the fuel so a stretch goal would be a method of determining related parameters as a function of this ratio.\n",
    "\n",
    "The assumed temperatures after expulsion will require several iterations to nail down, since we want to end up with the same holding temperature of pressurant. We could possibly start with this temperature, but H&H don't provide much insight into solving the resultant heat balance equation (1 equation in 3 unknowns). Alternatively, we could heat the pressurant differently prior to injection."
   ]
  },
  {
   "cell_type": "code",
   "execution_count": 4,
   "metadata": {},
   "outputs": [],
   "source": [
    "# 1st order approximation\n",
    "def n2_prop_reqs(rkt):    \n",
    "    m_g_lox = mass(rkt.lox_tank.p_0, rkt.lox_tank.volume, N2_TEMP, 0.95, N2_MM)\n",
    "    m_g_ipa = mass(rkt.ipa_tank.p_0, rkt.ipa_tank.volume, N2_TEMP, 0.95, N2_MM)\n",
    "    return m_g_lox + m_g_ipa\n",
    "\n",
    "# n2 requirements with heat transfer\n",
    "def n2_prop_reqs_detailed(sim, z_g, c_pg, \n",
    "                   z_p_lox, mm_lox, c_pl_lox, h_v_lox, c_pv_lox, t_v_lox, h_lox, t_u_lox,\n",
    "                   z_p_ipa, mm_ipa, c_pl_ipa, h_v_ipa, c_pv_ipa, t_v_ipa, h_ipa, t_u_ipa):\n",
    "    m_g_lox, t_g_lox = pressurant_reqs_3(sim.LV4.lox_tank.p_0, sim.LV4.lox_tank.volume, z_g, N2_MM,\n",
    "                     h_lox, np.pi * sim.LV4.lox_tank.in_radius**2, sim.t[sim.F_index], t_u_lox, 90.18,\n",
    "                     c_pl_lox, h_v_lox, c_pv_lox, t_v_lox,\n",
    "                     z_p_lox, mm_lox,\n",
    "                     c_pg,\n",
    "                     0, 0)\n",
    "    \n",
    "    m_g_ipa, t_g_ipa = pressurant_reqs_3(sim.LV4.ipa_tank.p_0, sim.LV4.ipa_tank.volume, z_g, N2_MM,\n",
    "                     h_ipa, np.pi * sim.LV4.ipa_tank.in_radius**2, sim.t[sim.F_index], t_u_ipa, 298.15,\n",
    "                     c_pl_ipa, h_v_ipa, c_pv_ipa, t_v_ipa,\n",
    "                     z_p_ipa, mm_ipa,\n",
    "                     c_pg,\n",
    "                     0, 0)\n",
    "    return m_g_lox + m_g_ipa, t_g_lox, t_g_ipa"
   ]
  },
  {
   "cell_type": "code",
   "execution_count": 5,
   "metadata": {},
   "outputs": [
    {
     "ename": "ZeroDivisionError",
     "evalue": "division by zero",
     "output_type": "error",
     "traceback": [
      "\u001b[0;31m---------------------------------------------------------------------------\u001b[0m",
      "\u001b[0;31mZeroDivisionError\u001b[0m                         Traceback (most recent call last)",
      "\u001b[0;32m/var/folders/gp/xcls3pzd7c184rgf9qz8t12r0000gn/T/ipykernel_83061/2966847840.py\u001b[0m in \u001b[0;36m<module>\u001b[0;34m\u001b[0m\n\u001b[1;32m      6\u001b[0m                           \u001b[0mOF\u001b[0m\u001b[0;34m,\u001b[0m \u001b[0mENG_P_CH\u001b[0m\u001b[0;34m,\u001b[0m \u001b[0mENG_T_CH\u001b[0m\u001b[0;34m,\u001b[0m \u001b[0mENG_KE\u001b[0m\u001b[0;34m,\u001b[0m \u001b[0mENG_MM\u001b[0m\u001b[0;34m,\u001b[0m\u001b[0;34m\u001b[0m\u001b[0;34m\u001b[0m\u001b[0m\n\u001b[1;32m      7\u001b[0m                           \u001b[0;34m[\u001b[0m\u001b[0;36m0\u001b[0m\u001b[0;34m,\u001b[0m \u001b[0;36m0\u001b[0m\u001b[0;34m,\u001b[0m \u001b[0;36m0\u001b[0m\u001b[0;34m,\u001b[0m \u001b[0;36m0\u001b[0m\u001b[0;34m,\u001b[0m \u001b[0;32mFalse\u001b[0m\u001b[0;34m,\u001b[0m \u001b[0;36m0\u001b[0m\u001b[0;34m,\u001b[0m \u001b[0;36m0\u001b[0m\u001b[0;34m,\u001b[0m \u001b[0;36m0\u001b[0m\u001b[0;34m,\u001b[0m \u001b[0;36m0\u001b[0m\u001b[0;34m,\u001b[0m \u001b[0;36m0\u001b[0m\u001b[0;34m,\u001b[0m \u001b[0;36m0\u001b[0m\u001b[0;34m,\u001b[0m \u001b[0;32mFalse\u001b[0m\u001b[0;34m]\u001b[0m\u001b[0;34m,\u001b[0m\u001b[0;34m\u001b[0m\u001b[0;34m\u001b[0m\u001b[0m\n\u001b[0;32m----> 8\u001b[0;31m                           0.05, True, 0.1, True, False)\n\u001b[0m\u001b[1;32m      9\u001b[0m \u001b[0;34m\u001b[0m\u001b[0m\n\u001b[1;32m     10\u001b[0m \u001b[0;32mif\u001b[0m \u001b[0;32mFalse\u001b[0m \u001b[0;32mand\u001b[0m \u001b[0m__name__\u001b[0m \u001b[0;34m==\u001b[0m \u001b[0;34m'__main__'\u001b[0m \u001b[0;32mand\u001b[0m \u001b[0;32mnot\u001b[0m \u001b[0;34m'__file__'\u001b[0m \u001b[0;32min\u001b[0m \u001b[0mglobals\u001b[0m\u001b[0;34m(\u001b[0m\u001b[0;34m)\u001b[0m\u001b[0;34m:\u001b[0m\u001b[0;34m\u001b[0m\u001b[0;34m\u001b[0m\u001b[0m\n",
      "\u001b[0;32m/var/folders/gp/xcls3pzd7c184rgf9qz8t12r0000gn/T/ipykernel_83061/4150064852.py\u001b[0m in \u001b[0;36mtrajectory\u001b[0;34m(fin_staging, stage_drop_ECEF, stage_root, stage_tip, stage_sweep, stage_span, stage_thickness, mass_red, m_prop, mdot, p_e, throttle_window, min_throttle, rcs_mdot, rcs_p_e, rcs_p_ch, ballast, root, tip, sweep, span, thickness, con_nose_l, tank_p_o, tank_p_f, rib_t, num_radl_dvsns, airfrm_in_rad, ipa_wt, of, p_ch, T_ch, ke, mm, perturbations, dt, adaptive, tol, descend, early_return, recovery)\u001b[0m\n\u001b[1;32m     22\u001b[0m                     \u001b[0mrcs_mdot\u001b[0m\u001b[0;34m,\u001b[0m \u001b[0mrcs_p_e\u001b[0m\u001b[0;34m,\u001b[0m \u001b[0mrcs_p_ch\u001b[0m\u001b[0;34m,\u001b[0m\u001b[0;34m\u001b[0m\u001b[0;34m\u001b[0m\u001b[0m\n\u001b[1;32m     23\u001b[0m                     \u001b[0mballast\u001b[0m\u001b[0;34m,\u001b[0m \u001b[0mroot\u001b[0m\u001b[0;34m,\u001b[0m \u001b[0mtip\u001b[0m\u001b[0;34m,\u001b[0m \u001b[0msweep\u001b[0m\u001b[0;34m,\u001b[0m \u001b[0mspan\u001b[0m\u001b[0;34m,\u001b[0m \u001b[0mthickness\u001b[0m\u001b[0;34m,\u001b[0m \u001b[0mcon_nose_l\u001b[0m\u001b[0;34m,\u001b[0m\u001b[0;34m\u001b[0m\u001b[0;34m\u001b[0m\u001b[0m\n\u001b[0;32m---> 24\u001b[0;31m                     tank_p_o, tank_p_f, rib_t, num_radl_dvsns)\n\u001b[0m\u001b[1;32m     25\u001b[0m     aero_model = AeroModel(LV4.diameter, LV4.length, LV4.nose_l,\n\u001b[1;32m     26\u001b[0m                            LV4.fin)\n",
      "\u001b[0;32m/var/folders/gp/xcls3pzd7c184rgf9qz8t12r0000gn/T/ipykernel_83061/4282269179.py\u001b[0m in \u001b[0;36mcreate_rocket\u001b[0;34m(mprop, mdot, p_e, p_ch, T_ch, ke, mm, throttle_window, min_throttle, airfrm_in_rad, ipa_wt, of, rcs_mdot, rcs_p_e, rcs_p_ch, ballast, root, tip, sweep, span, thickness, con_nose_l, tank_p_o, tank_p_f, rib_t, num_radl_dvsns)\u001b[0m\n\u001b[1;32m     62\u001b[0m     \u001b[0mengine_subsystem\u001b[0m\u001b[0;34m.\u001b[0m\u001b[0mparts\u001b[0m\u001b[0;34m[\u001b[0m\u001b[0;34m-\u001b[0m\u001b[0;36m1\u001b[0m\u001b[0;34m]\u001b[0m\u001b[0;34m.\u001b[0m\u001b[0madd_structure\u001b[0m\u001b[0;34m(\u001b[0m\u001b[0mfin_set\u001b[0m\u001b[0;34m)\u001b[0m\u001b[0;34m\u001b[0m\u001b[0;34m\u001b[0m\u001b[0m\n\u001b[1;32m     63\u001b[0m \u001b[0;34m\u001b[0m\u001b[0m\n\u001b[0;32m---> 64\u001b[0;31m     \u001b[0mengine_subsystem\u001b[0m\u001b[0;34m.\u001b[0m\u001b[0mparts\u001b[0m\u001b[0;34m[\u001b[0m\u001b[0;34m-\u001b[0m\u001b[0;36m1\u001b[0m\u001b[0;34m]\u001b[0m\u001b[0;34m.\u001b[0m\u001b[0madd_engine\u001b[0m\u001b[0;34m(\u001b[0m\u001b[0mmdot\u001b[0m\u001b[0;34m,\u001b[0m \u001b[0mp_e\u001b[0m\u001b[0;34m,\u001b[0m \u001b[0mp_ch\u001b[0m\u001b[0;34m,\u001b[0m \u001b[0mT_ch\u001b[0m\u001b[0;34m,\u001b[0m \u001b[0mke\u001b[0m\u001b[0;34m,\u001b[0m \u001b[0mmm\u001b[0m\u001b[0;34m,\u001b[0m \u001b[0mthrottle_window\u001b[0m\u001b[0;34m,\u001b[0m \u001b[0mmin_throttle\u001b[0m\u001b[0;34m,\u001b[0m \u001b[0mheight\u001b[0m \u001b[0;34m-\u001b[0m \u001b[0mENG_CLEARANCE\u001b[0m\u001b[0;34m)\u001b[0m\u001b[0;34m\u001b[0m\u001b[0;34m\u001b[0m\u001b[0m\n\u001b[0m\u001b[1;32m     65\u001b[0m     \u001b[0mrocket\u001b[0m\u001b[0;34m.\u001b[0m\u001b[0mengine\u001b[0m    \u001b[0;34m=\u001b[0m \u001b[0mengine_subsystem\u001b[0m\u001b[0;34m.\u001b[0m\u001b[0mparts\u001b[0m\u001b[0;34m[\u001b[0m\u001b[0;34m-\u001b[0m\u001b[0;36m1\u001b[0m\u001b[0;34m]\u001b[0m\u001b[0;34m.\u001b[0m\u001b[0mparts\u001b[0m\u001b[0;34m[\u001b[0m\u001b[0;34m-\u001b[0m\u001b[0;36m1\u001b[0m\u001b[0;34m]\u001b[0m \u001b[0;31m# for convenience\u001b[0m\u001b[0;34m\u001b[0m\u001b[0;34m\u001b[0m\u001b[0m\n\u001b[1;32m     66\u001b[0m     \u001b[0;32mif\u001b[0m \u001b[0mUSE_EFS\u001b[0m\u001b[0;34m:\u001b[0m\u001b[0;34m\u001b[0m\u001b[0;34m\u001b[0m\u001b[0m\n",
      "\u001b[0;32m/var/folders/gp/xcls3pzd7c184rgf9qz8t12r0000gn/T/ipykernel_83061/2611829738.py\u001b[0m in \u001b[0;36madd_engine\u001b[0;34m(self, mdot, p_e, p_ch, T_ch, ke, Re, throttle_window, min_throttle, height_coord, x_coord, y_coord, is_RCS)\u001b[0m\n\u001b[1;32m     34\u001b[0m             \u001b[0mself\u001b[0m\u001b[0;34m.\u001b[0m\u001b[0mparts\u001b[0m\u001b[0;34m.\u001b[0m\u001b[0mappend\u001b[0m\u001b[0;34m(\u001b[0m\u001b[0mRCS\u001b[0m\u001b[0;34m(\u001b[0m\u001b[0mmdot\u001b[0m\u001b[0;34m,\u001b[0m \u001b[0mp_e\u001b[0m\u001b[0;34m,\u001b[0m \u001b[0mp_ch\u001b[0m\u001b[0;34m,\u001b[0m \u001b[0mT_ch\u001b[0m\u001b[0;34m,\u001b[0m \u001b[0mke\u001b[0m\u001b[0;34m,\u001b[0m \u001b[0mRe\u001b[0m\u001b[0;34m,\u001b[0m \u001b[0mthrottle_window\u001b[0m\u001b[0;34m,\u001b[0m \u001b[0mmin_throttle\u001b[0m\u001b[0;34m,\u001b[0m \u001b[0mis_RCS\u001b[0m\u001b[0;34m)\u001b[0m\u001b[0;34m)\u001b[0m\u001b[0;34m\u001b[0m\u001b[0;34m\u001b[0m\u001b[0m\n\u001b[1;32m     35\u001b[0m         \u001b[0;32melse\u001b[0m\u001b[0;34m:\u001b[0m\u001b[0;34m\u001b[0m\u001b[0;34m\u001b[0m\u001b[0m\n\u001b[0;32m---> 36\u001b[0;31m             \u001b[0mself\u001b[0m\u001b[0;34m.\u001b[0m\u001b[0mparts\u001b[0m\u001b[0;34m.\u001b[0m\u001b[0mappend\u001b[0m\u001b[0;34m(\u001b[0m\u001b[0mEngine\u001b[0m\u001b[0;34m(\u001b[0m\u001b[0mmdot\u001b[0m\u001b[0;34m,\u001b[0m \u001b[0mp_e\u001b[0m\u001b[0;34m,\u001b[0m \u001b[0mp_ch\u001b[0m\u001b[0;34m,\u001b[0m \u001b[0mT_ch\u001b[0m\u001b[0;34m,\u001b[0m \u001b[0mke\u001b[0m\u001b[0;34m,\u001b[0m \u001b[0mRe\u001b[0m\u001b[0;34m,\u001b[0m \u001b[0mthrottle_window\u001b[0m\u001b[0;34m,\u001b[0m \u001b[0mmin_throttle\u001b[0m\u001b[0;34m,\u001b[0m \u001b[0mis_RCS\u001b[0m\u001b[0;34m)\u001b[0m\u001b[0;34m)\u001b[0m\u001b[0;34m\u001b[0m\u001b[0;34m\u001b[0m\u001b[0m\n\u001b[0m\u001b[1;32m     37\u001b[0m         \u001b[0mself\u001b[0m\u001b[0;34m.\u001b[0m\u001b[0mparts\u001b[0m\u001b[0;34m[\u001b[0m\u001b[0;34m-\u001b[0m\u001b[0;36m1\u001b[0m\u001b[0;34m]\u001b[0m\u001b[0;34m.\u001b[0m\u001b[0mcenter_of_mass\u001b[0m\u001b[0;34m(\u001b[0m\u001b[0mcoords\u001b[0m\u001b[0;34m)\u001b[0m\u001b[0;34m\u001b[0m\u001b[0;34m\u001b[0m\u001b[0m\n\u001b[1;32m     38\u001b[0m \u001b[0;34m\u001b[0m\u001b[0m\n",
      "\u001b[0;32m/var/folders/gp/xcls3pzd7c184rgf9qz8t12r0000gn/T/ipykernel_83061/3387817637.py\u001b[0m in \u001b[0;36m__init__\u001b[0;34m(self, mdot, p_e, p_ch, T_ch, ke, mm, throttle_window, min_throttle, is_RCS)\u001b[0m\n\u001b[1;32m    156\u001b[0m \u001b[0;34m\u001b[0m\u001b[0m\n\u001b[1;32m    157\u001b[0m         \u001b[0;31m# Throat pressure      [Pa]\u001b[0m\u001b[0;34m\u001b[0m\u001b[0;34m\u001b[0m\u001b[0;34m\u001b[0m\u001b[0m\n\u001b[0;32m--> 158\u001b[0;31m         \u001b[0mself\u001b[0m\u001b[0;34m.\u001b[0m\u001b[0mp_t\u001b[0m                  \u001b[0;34m=\u001b[0m \u001b[0mp_ch\u001b[0m \u001b[0;34m*\u001b[0m \u001b[0;34m(\u001b[0m\u001b[0;36m1\u001b[0m \u001b[0;34m+\u001b[0m \u001b[0;34m(\u001b[0m\u001b[0mke\u001b[0m \u001b[0;34m-\u001b[0m \u001b[0;36m1\u001b[0m\u001b[0;34m)\u001b[0m\u001b[0;34m/\u001b[0m\u001b[0;36m2\u001b[0m\u001b[0;34m)\u001b[0m\u001b[0;34m**\u001b[0m\u001b[0;34m(\u001b[0m\u001b[0;34m-\u001b[0m\u001b[0mke\u001b[0m \u001b[0;34m/\u001b[0m\u001b[0;34m(\u001b[0m\u001b[0mke\u001b[0m \u001b[0;34m-\u001b[0m \u001b[0;36m1\u001b[0m\u001b[0;34m)\u001b[0m\u001b[0;34m)\u001b[0m\u001b[0;34m\u001b[0m\u001b[0;34m\u001b[0m\u001b[0m\n\u001b[0m\u001b[1;32m    159\u001b[0m         \u001b[0;31m# Throat temperature   [K]\u001b[0m\u001b[0;34m\u001b[0m\u001b[0;34m\u001b[0m\u001b[0;34m\u001b[0m\u001b[0m\n\u001b[1;32m    160\u001b[0m         \u001b[0mself\u001b[0m\u001b[0;34m.\u001b[0m\u001b[0mT_t\u001b[0m                  \u001b[0;34m=\u001b[0m \u001b[0mT_ch\u001b[0m\u001b[0;34m*\u001b[0m\u001b[0;34m(\u001b[0m\u001b[0;36m1\u001b[0m \u001b[0;34m/\u001b[0m \u001b[0;34m(\u001b[0m\u001b[0;36m1\u001b[0m \u001b[0;34m+\u001b[0m \u001b[0;34m(\u001b[0m\u001b[0mke\u001b[0m \u001b[0;34m-\u001b[0m \u001b[0;36m1\u001b[0m\u001b[0;34m)\u001b[0m\u001b[0;34m/\u001b[0m\u001b[0;36m2\u001b[0m\u001b[0;34m)\u001b[0m\u001b[0;34m)\u001b[0m\u001b[0;34m\u001b[0m\u001b[0;34m\u001b[0m\u001b[0m\n",
      "\u001b[0;31mZeroDivisionError\u001b[0m: division by zero"
     ]
    }
   ],
   "source": [
    "if __name__ == '__main__' and not '__file__' in globals():\n",
    "    %run Trajectory_Simulation.ipynb\n",
    "    sim = trajectory(False, 0, 0, 0, 0, 0, 0, 0, M_PROP, MDOT, P_E, THROTTLE_WINDOW, MIN_THROTTLE, RCS_MDOT, RCS_P_E, RCS_P_CH, \n",
    "                          0, FIN_ROOT, FIN_TIP, FIN_SWEEP_ANGLE, FIN_SEMISPAN, FIN_THICKNESS,\n",
    "                          LOX_TANK_P, IPA_TANK_P, AIRFRM_IN_RAD,\n",
    "                          OF, ENG_P_CH, ENG_T_CH, ENG_KE, ENG_MM,\n",
    "                          [0, 0, 0, 0, False, 0, 0, 0, 0, 0, 0, False], \n",
    "                          0.05, True, 0.1, True, False)\n",
    "    \n",
    "if False and __name__ == '__main__' and not '__file__' in globals():\n",
    "    m_g, t_g_lox, t_g_ipa = calculate_reqs(sim, z_g, c_pg, \n",
    "                                           z_p_lox, mm_lox, c_pl_lox, h_v_lox, c_pv_lox, t_v_lox, h_lox, t_u_lox,\n",
    "                                           z_p_ipa, mm_ipa, c_pl_ipa, h_v_ipa, c_pv_ipa, t_v_ipa, h_ipa, t_u_ipa)\n",
    "    print(\"N2 mass (kg):\", m_g)\n",
    "    print(\"LOX tank inlet temp (K):\", t_g_lox)\n",
    "    print(\"IPA tank inlet temp (K):\", t_g_ipa)\n",
    "    \n",
    "if __name__ == '__main__' and not '__file__' in globals():\n",
    "    approx_m = n2_prop_reqs(sim.LV4)\n",
    "    print(\"1st order approx. N2 req mass (kg):\", approx_m)"
   ]
  }
 ],
 "metadata": {
  "kernelspec": {
   "display_name": "Python 3 (ipykernel)",
   "language": "python",
   "name": "python3"
  },
  "language_info": {
   "codemirror_mode": {
    "name": "ipython",
    "version": 3
   },
   "file_extension": ".py",
   "mimetype": "text/x-python",
   "name": "python",
   "nbconvert_exporter": "python",
   "pygments_lexer": "ipython3",
   "version": "3.7.11"
  }
 },
 "nbformat": 4,
 "nbformat_minor": 2
}
