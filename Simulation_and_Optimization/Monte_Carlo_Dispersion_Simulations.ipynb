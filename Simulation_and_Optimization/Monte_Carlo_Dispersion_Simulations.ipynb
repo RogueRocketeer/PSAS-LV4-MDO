{
 "cells": [
  {
   "cell_type": "markdown",
   "metadata": {},
   "source": [
    "# Purpose\n",
    "This program generates a list of randomized perturbations of various parameters of a rocket's design, launch, and trajectory, then simulates a trajectory for each one and tabulates the perturbations and their final impact points. Impact points are in Cartesian coordinates, so columns are created for latitude, longitude, and height, and then the results are saved as a .csv file for later analysis by another program.\n",
    "\n",
    "In order, the perturbations are as follows (in order):\n",
    "\n",
    "| Column name |  Description | Units |\n",
    "| ------- | --- | --- |\n",
    "|'deg N' | Initial latitude offset | decimal degrees|\n",
    "|'deg E' | Initial longitude offset| decimal degrees|\n",
    "|'Launch Az'| Launcher azimuth| degrees |\n",
    "|'Launch El'| Launcher elevation|  degrees|\n",
    "|'Tip-Off'| Tip-off error is simulated | boolean|\n",
    "|'Thrust Pitch'| Engine thrust vector misalignment, pitch | degrees|\n",
    "|'Thrust Yaw'|Engine thrust vector misalignment, yaw | degrees|\n",
    "|'mdot'| Mass flow rate| kg/s|\n",
    "|'Ve'| Nozzle exit velocity | m/s |\n",
    "|'mass'| Excess mass | positive number, kg |\n",
    "|'drag'| Drag coefficient | dimensionless |\n",
    "|'Wind'| Wind velocity is included| boolean|\n",
    "\n",
    "I tried to pick reasonable estimates for standard deviations of these parameters. However, we still need engineers to select values reflective of what we can expect IRL."
   ]
  },
  {
   "cell_type": "code",
   "execution_count": 1,
   "metadata": {},
   "outputs": [
    {
     "name": "stderr",
     "output_type": "stream",
     "text": [
      "/home/cory/anaconda3/lib/python3.7/site-packages/statsmodels/tools/_testing.py:19: FutureWarning: pandas.util.testing is deprecated. Use the functions in the public API at pandas.testing instead.\n",
      "  import pandas.util.testing as tm\n"
     ]
    }
   ],
   "source": [
    "%run Trajectory_Simulation.ipynb\n",
    "import pandas as pd"
   ]
  },
  {
   "cell_type": "code",
   "execution_count": 2,
   "metadata": {},
   "outputs": [],
   "source": [
    "amount = 100 # number of simulations per run\n",
    "runs   = 5\n",
    "# perturbations 'deg N', 'deg E', 'Launch Az', 'Launch El', 'Tip-Off',\n",
    "            #   'Thrust Pitch', 'Thrust Yaw', 'mdot', 'Ve',\n",
    "            #    'mass', 'drag', 'Wind'\n",
    "\n",
    "def mc_init(num_sims):\n",
    "    results = []\n",
    "    perturbation_list = []\n",
    "\n",
    "    for i in range(num_sims):\n",
    "        perturbation = []\n",
    "        perturbation.append(np.random.normal(0, 0.001)) # 111 m std dev \n",
    "        perturbation.append(np.random.normal(0, 0.001)) # 111 m std dev \n",
    "        perturbation.append(np.random.normal(AZ_PERTURB, 0.333333)) # degrees\n",
    "        perturbation.append(np.random.normal(EL_PERTURB, 0.333333)) # degrees\n",
    "        perturbation.append(np.random.rand() < 0.5)\n",
    "        perturbation.append(np.random.normal(0, 0.0333333)) # degrees\n",
    "        perturbation.append(np.random.normal(0, 0.0333333)) # degrees\n",
    "        perturbation.append(np.random.normal(0, 0.02))\n",
    "        perturbation.append(np.random.normal(0, 0.01))\n",
    "        perturbation.append(np.random.exponential(2.5))\n",
    "        perturbation.append(np.random.normal(0, 0.01))\n",
    "        perturbation.append(np.random.rand() < 0.5)\n",
    "        \n",
    "        perturbation_list.append(perturbation)\n",
    "        \n",
    "    print('random perturbations obtained\\n')\n",
    "    \n",
    "    for i, perturbation in enumerate(perturbation_list):\n",
    "        if i % 10 == 0: print('iterations:', i)\n",
    "        sim = trajectory(fin_staging, stage_root, stage_tip, stage_sweep, stage_span, stage_thickness, mass_red, M_PROP, MDOT, P_E,\n",
    "               THROTTLE_WINDOW, MIN_THROTTLE,\n",
    "               RCS_MDOT, RCS_P_E, RCS_P_CH,\n",
    "               BALLAST, FIN_ROOT, FIN_TIP, FIN_SWEEP_ANGLE, FIN_SEMISPAN, FIN_THICKNESS, CON_NOSE_L,\n",
    "                LOX_TANK_P, IPA_TANK_P, RIB_T, NUM_RADL_DVSNS,\n",
    "               AIRFRM_IN_RAD, IPA_WT, OF, ENG_P_CH, ENG_T_CH, ENG_KE, ENG_MM,\n",
    "                          perturbation, \n",
    "                          0.025, True, 0.005, True, True)\n",
    "        x, y, z = sim.raw_states[-1][0][1]\n",
    "        perturbation.append(x)\n",
    "        perturbation.append(y)\n",
    "        perturbation.append(z)\n",
    "        \n",
    "        results.append(perturbation)\n",
    "    print('done simulations!\\n')\n",
    "    \n",
    "    return results"
   ]
  },
  {
   "cell_type": "code",
   "execution_count": 3,
   "metadata": {},
   "outputs": [],
   "source": [
    "def lat_long(df):\n",
    "    array = df.loc[:, ['x', 'y', 'z']]\n",
    "    X = [x for x in array['x']]\n",
    "    Y = [y for y in array['y']]\n",
    "    Z = [z for z in array['z']]\n",
    "    coords = [Environment(None, 1).ECEF_to_geodetic([X[i], Y[i], Z[i]])\n",
    "                                   for i in range(len(array))]\n",
    "    df['lat'] = [coord[0] for coord in coords]\n",
    "    df['long'] = [coord[1] for coord in coords]\n",
    "    df['height'] = [coord[2] for coord in coords]\n",
    "    \n",
    "def handle_data(results):\n",
    "    # landing coordinates\n",
    "    results_df = pd.DataFrame.from_records(results,\n",
    "                                           columns=['deg N', 'deg E', 'Launch Az', 'Launch El', 'Tip-Off',\n",
    "                                                    'Thrust Pitch', 'Thrust Yaw', 'mdot', 'Ve',\n",
    "                                                    'mass', 'drag', 'Wind',\n",
    "                                                    'x', 'y', 'z'])\n",
    "    lat_long(results_df)\n",
    "    print(results_df.describe())\n",
    "    return results_df"
   ]
  },
  {
   "cell_type": "code",
   "execution_count": null,
   "metadata": {
    "scrolled": false
   },
   "outputs": [
    {
     "name": "stdout",
     "output_type": "stream",
     "text": [
      "random perturbations obtained\n",
      "\n",
      "iterations: 0\n",
      "iterations: 10\n",
      "iterations: 20\n",
      "iterations: 30\n",
      "iterations: 40\n",
      "iterations: 50\n",
      "iterations: 60\n",
      "iterations: 70\n"
     ]
    }
   ],
   "source": [
    "for i in range(runs):\n",
    "    results = mc_init(num_sims=amount)\n",
    "    sim_data = handle_data(results)\n",
    "    sim_data.to_csv(path_or_buf='./dispersion_sample_data/sim_data_' + str(i+4) + '.csv')"
   ]
  },
  {
   "cell_type": "code",
   "execution_count": null,
   "metadata": {},
   "outputs": [],
   "source": []
  }
 ],
 "metadata": {
  "kernelspec": {
   "display_name": "Python 3 (ipykernel)",
   "language": "python",
   "name": "python3"
  },
  "language_info": {
   "codemirror_mode": {
    "name": "ipython",
    "version": 3
   },
   "file_extension": ".py",
   "mimetype": "text/x-python",
   "name": "python",
   "nbconvert_exporter": "python",
   "pygments_lexer": "ipython3",
   "version": "3.7.11"
  }
 },
 "nbformat": 4,
 "nbformat_minor": 2
}
