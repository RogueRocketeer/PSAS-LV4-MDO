{
 "cells": [
  {
   "cell_type": "code",
   "execution_count": 1,
   "metadata": {},
   "outputs": [],
   "source": [
    "from rocketcea.cea_obj_w_units import CEA_Obj\n",
    "from rocketcea.cea_obj import add_new_fuel\n",
    "import rocketcea.cea_obj\n",
    "import numpy as np\n",
    "from scipy.optimize import minimize, shgo\n",
    "import os\n",
    "import contextlib\n",
    "global PROPELLANT_SET\n",
    "PROPELLANT_SET=False"
   ]
  },
  {
   "cell_type": "code",
   "execution_count": 2,
   "metadata": {},
   "outputs": [],
   "source": [
    "allvectors = []               # array for all design vecs, global variable\n",
    "allobjfun = []                # array for tracking objective function evaluations"
   ]
  },
  {
   "cell_type": "code",
   "execution_count": 3,
   "metadata": {},
   "outputs": [],
   "source": [
    "def objective(var, cons):\n",
    "    return (var/cons)**2 / 2\n",
    "def exterior(var, cons, good_if_less_than=False):\n",
    "    if good_if_less_than:\n",
    "        return np.max([0, var/cons - 1])**2 / 2\n",
    "    else:\n",
    "        return np.max([0, -(var/cons - 1)])**2 / 2\n",
    "def exact(var, cons):\n",
    "    return (var/cons - 1)**2 / 2\n",
    "def proportion(amount, ratio):\n",
    "    top = amount * ratio/(1 + ratio)\n",
    "    bottom = amount * 1/(1 + ratio)\n",
    "    return top, bottom"
   ]
  },
  {
   "cell_type": "code",
   "execution_count": 4,
   "metadata": {},
   "outputs": [],
   "source": [
    "def get_propellant_properties(alc_wt, of_ratio, p_ch, exp_ratio, output=False):\n",
    "    ipa_wt = min(alc_wt, 99)\n",
    "    ipa_str = '''\n",
    "    fuel C3H8O-2propanol C 3 H 8 O 1    wt%=''' + str(ipa_wt) + '''\n",
    "    h,cal=-65133.     t(k)=298.15   rho,g/cc=0.786\n",
    "    fuel water H 2 O 1  wt%=''' + str(100 - ipa_wt) + '''\n",
    "    h,cal=-68308.  t(k)=298.15 rho,g/cc=0.9998\n",
    "    '''\n",
    "    #eth_ratio = 21.11\n",
    "    #alc_wt = min(alc_wt, 99.5)\n",
    "    #eth_wt1, eth_wt2 = proportion(alc_wt, eth_ratio)\n",
    "    #eth_str = '''\n",
    "    #fuel C2H5OH(L)   C 2 H 6 O 1       wt%=''' + str(eth_wt1) + '''\n",
    "    #h,cal=-66370.0      t(k)=298.15       rho,g/cc=0.789\n",
    "    #fuel C3H8O-2propanol C 3 H 8 O 1    wt%=''' + str(eth_wt2) + '''\n",
    "    #h,cal=-65133.     t(k)=298.15   rho,g/cc=0.786\n",
    "    #fuel water H 2 O 1  wt%=''' + str(100 - alc_wt) + '''\n",
    "    #h,cal=-68308.  t(k)=298.15 rho,g/cc=0.9998\n",
    "    #'''\n",
    "    add_new_fuel('LV4_Fuel', ipa_str)\n",
    "    #add_new_fuel('LV4_Fuel', eth_str)\n",
    "    if not output:\n",
    "        PROPELLANT = CEA_Obj(oxName='LOX', fuelName='LV4_Fuel',\n",
    "                        pressure_units='Pa', temperature_units='K', cstar_units='m/s',\n",
    "                         density_units='kg/m^3', isp_units='sec', specific_heat_units='J/kg-K')\n",
    "    else:\n",
    "        PROPELLANT = rocketcea.cea_obj.CEA_Obj(oxName='LOX', fuelName='LV4_Fuel')\n",
    "        p_ch *= 1.45e-4\n",
    "    isp = PROPELLANT.get_Isp(Pc=p_ch, MR=of_ratio, eps=exp_ratio)\n",
    "    IspVac, Cstar, Tc, MW, gamma = PROPELLANT.get_IvacCstrTc_ChmMwGam(Pc=p_ch, MR=of_ratio, eps=exp_ratio)\n",
    "    string = PROPELLANT.get_full_cea_output(Pc=p_ch, MR=of_ratio, eps=exp_ratio) if output else ''\n",
    "    return [isp, IspVac, Cstar, Tc, MW, gamma, string]\n",
    "\n",
    "def prop_cost(x):\n",
    "    ipa_wt, of_ratio, p_ch, exp_ratio = x\n",
    "    #ipa_wt = 64.8\n",
    "    isp, IspVac, Cstar, Tc, MW, gamma, string = get_propellant_properties(ipa_wt, of_ratio, p_ch, exp_ratio)\n",
    "    merit = -objective(IspVac, 250) + 100* exact(p_ch, 2413166) + 100 * exact(exp_ratio, 4.5495)\n",
    "    return merit\n",
    "\n",
    "def prop_opt(x0):\n",
    "    #res = minimize(prop_cost, x0, method='nelder-mead', options={'disp': True, 'adaptive':True})\n",
    "    res = shgo(prop_cost,# options={'disp':True},\n",
    "               n=50, iters=2, sampling_method='sobol',\n",
    "               bounds=[*zip([0.1,0.1,0.1, 3],\n",
    "                                [100,10,2413166*2,7])],\n",
    "              minimizer_kwargs={'method':'Nelder-Mead', 'options':{'adaptive':True}})\n",
    "    x = res.x\n",
    "    return x\n",
    "\n",
    "def prop_run():\n",
    "    with open(os.devnull, \"w\") as f, contextlib.redirect_stdout(f):\n",
    "        x = prop_opt([64.8, 1.3, 2413166, 5.988])\n",
    "        ipa_wt, of_ratio, p_ch, exp_ratio = x\n",
    "        ipa_wt = min(ipa_wt, 99)\n",
    "        #ipa_wt = 64.8\n",
    "        isp, IspVac, Cstar, Tc, MW, gamma, string = get_propellant_properties(ipa_wt, of_ratio, p_ch, exp_ratio, True)\n",
    "        isp, IspVac, Cstar, Tc, MW, gamma, _ = get_propellant_properties(ipa_wt, of_ratio, p_ch, exp_ratio)\n",
    "    if __name__ == '__main__' and not '__file__' in globals():\n",
    "        print('Alcohol Wt %: ', ipa_wt)\n",
    "        print('OF ratio: ', of_ratio)\n",
    "        print('P_ch (Pa): ', p_ch)\n",
    "        print('Expansion ratio: ', exp_ratio)\n",
    "        print()\n",
    "        print('Vacuum ISP (s): ', IspVac)\n",
    "        print('Chamber Temp (K): ', Tc)\n",
    "        print('Molar Wt (1/n): ', MW)\n",
    "        print('Spec Heat: ', gamma)\n",
    "    global PROPELLANT_SET\n",
    "    PROPELLANT_SET = True\n",
    "    return ipa_wt, of_ratio, p_ch, Tc, MW, gamma, string\n",
    "    "
   ]
  },
  {
   "cell_type": "code",
   "execution_count": 5,
   "metadata": {},
   "outputs": [
    {
     "name": "stdout",
     "output_type": "stream",
     "text": [
      "Alcohol Wt %:  99\n",
      "OF ratio:  1.7698318324130407\n",
      "P_ch (Pa):  2413407.964215332\n",
      "Expansion ratio:  4.556649500001971\n",
      "\n",
      "Vacuum ISP (s):  295.0411875325464\n",
      "Chamber Temp (K):  3343.390780259355\n",
      "Molar Wt (1/n):  22.510680862850947\n",
      "Spec Heat:  1.1306812737857048\n"
     ]
    }
   ],
   "source": [
    "if __name__ == '__main__' and not '__file__' in globals(): prop_run()"
   ]
  },
  {
   "cell_type": "code",
   "execution_count": 6,
   "metadata": {
    "scrolled": false
   },
   "outputs": [
    {
     "name": "stdout",
     "output_type": "stream",
     "text": [
      "Alcohol Wt %:  99\n",
      "OF ratio:  1.7698318324130407\n",
      "P_ch (Pa):  2413407.964215332\n",
      "Expansion ratio:  4.556649500001971\n",
      "\n",
      "Vacuum ISP (s):  295.0411875325464\n",
      "Chamber Temp (K):  3343.390780259355\n",
      "Molar Wt (1/n):  22.510680862850947\n",
      "Spec Heat:  1.1306812737857048\n"
     ]
    }
   ],
   "source": [
    "if __name__ == '__main__' and not '__file__' in globals(): prop_run()"
   ]
  },
  {
   "cell_type": "code",
   "execution_count": 7,
   "metadata": {},
   "outputs": [],
   "source": [
    "def propellant_cost(x, chamber_pressure):\n",
    "    ipa_wt, of_ratio, p_ch, exp_ratio = x\n",
    "    #ipa_wt = 64.8\n",
    "    isp, IspVac, Cstar, Tc, MW, gamma, string = get_propellant_properties(ipa_wt, of_ratio, p_ch, exp_ratio)\n",
    "    merit = -objective(IspVac, 250) + 100 * exact(p_ch, chamber_pressure) + 100 * exact(exp_ratio, 4.5495)\n",
    "    return merit\n",
    "\n",
    "def propellant_optimizer(chamber_pressure):\n",
    "    with open(os.devnull, \"w\") as f, contextlib.redirect_stdout(f):\n",
    "        res = minimize(propellant_cost, [64.8, 1.3, chamber_pressure, 4.5495], args=(chamber_pressure), method='nelder-mead', options={'adaptive':True})\n",
    "        ipa_wt, of_ratio, p_ch, exp_ratio = res.x\n",
    "        #ipa_wt = 64.8\n",
    "        ipa_wt = min(ipa_wt, 99)\n",
    "        isp, IspVac, Cstar, Tc, MW, gamma, _ = get_propellant_properties(ipa_wt, of_ratio, p_ch, exp_ratio)\n",
    "    return ipa_wt, of_ratio, p_ch, Tc, MW, gamma, _"
   ]
  },
  {
   "cell_type": "code",
   "execution_count": 8,
   "metadata": {},
   "outputs": [],
   "source": [
    "#%%timeit -n 1 -r 1 pass\n",
    "if __name__ == '__main__' and not '__file__' in globals():\n",
    "    ipa_wt, of_ratio, p_ch, Tc, MW, gamma, string = propellant_optimizer(2413166)"
   ]
  },
  {
   "cell_type": "code",
   "execution_count": null,
   "metadata": {},
   "outputs": [],
   "source": []
  }
 ],
 "metadata": {
  "kernelspec": {
   "display_name": "Python 3 (ipykernel)",
   "language": "python",
   "name": "python3"
  },
  "language_info": {
   "codemirror_mode": {
    "name": "ipython",
    "version": 3
   },
   "file_extension": ".py",
   "mimetype": "text/x-python",
   "name": "python",
   "nbconvert_exporter": "python",
   "pygments_lexer": "ipython3",
   "version": "3.7.11"
  }
 },
 "nbformat": 4,
 "nbformat_minor": 2
}
