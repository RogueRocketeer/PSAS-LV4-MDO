{
 "cells": [
  {
   "cell_type": "markdown",
   "id": "33fdaea6",
   "metadata": {},
   "source": [
    "Takes the initial unoptimized design vector and simulates trajectory. Outputs speed when leaving the launch rail and engine thrust. < 10 kN should be the target."
   ]
  },
  {
   "cell_type": "code",
   "execution_count": 1,
   "id": "fb39d7af",
   "metadata": {},
   "outputs": [],
   "source": [
    "%run OpenRocket_Interface.ipynb"
   ]
  },
  {
   "cell_type": "code",
   "execution_count": 2,
   "id": "5445564a",
   "metadata": {},
   "outputs": [
    {
     "name": "stdout",
     "output_type": "stream",
     "text": [
      "[-1.63773005e-04  9.34253161e-05  3.79436334e+00]\n"
     ]
    }
   ],
   "source": [
    "init_array = [M_PROP, MDOT, P_E, LOX_TANK_P, IPA_TANK_P, ENG_P_CH]\n",
    "ipa_wt, of_ratio, p_ch, Tc, MW, gamma, _ = propellant_optimizer(init_array[5])\n",
    "sim = trajectory(False, 0, 0, 0, 0, 0, 0, 0, init_array[0], init_array[1], init_array[2],\n",
    "               THROTTLE_WINDOW, MIN_THROTTLE,\n",
    "               RCS_MDOT, RCS_P_E, RCS_P_CH,\n",
    "               BALLAST, 8.762, 8.3302, 0.6981317007977318, 0.4064, 0.003175, CON_NOSE_L, #enter larger fin parameters\n",
    "                init_array[3], init_array[4], RIB_T, NUM_RADL_DVSNS,\n",
    "               AIRFRM_IN_RAD, ipa_wt, of_ratio, init_array[5], Tc, gamma, MW,\n",
    "               [0, 0, AZ_PERTURB, EL_PERTURB, True, 0, 0, 0, 0, 0, 0, True], \n",
    "                          0.025, False, 0.045, False, False)"
   ]
  },
  {
   "cell_type": "code",
   "execution_count": 3,
   "id": "c22d85de",
   "metadata": {},
   "outputs": [
    {
     "name": "stdout",
     "output_type": "stream",
     "text": [
      "19.346888022605224 m/s\n",
      "14134.634845770657 N\n"
     ]
    }
   ],
   "source": [
    "print(sim.LV4.launch_speed, \"m/s\")\n",
    "print(sim.thrust[0], \"N\")"
   ]
  }
 ],
 "metadata": {
  "kernelspec": {
   "display_name": "Python 3 (ipykernel)",
   "language": "python",
   "name": "python3"
  },
  "language_info": {
   "codemirror_mode": {
    "name": "ipython",
    "version": 3
   },
   "file_extension": ".py",
   "mimetype": "text/x-python",
   "name": "python",
   "nbconvert_exporter": "python",
   "pygments_lexer": "ipython3",
   "version": "3.7.11"
  }
 },
 "nbformat": 4,
 "nbformat_minor": 5
}
