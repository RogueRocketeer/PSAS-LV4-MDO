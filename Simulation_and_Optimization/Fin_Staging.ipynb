{
 "cells": [
  {
   "cell_type": "markdown",
   "id": "5cab27ad",
   "metadata": {},
   "source": [
    "Fin geometry is defined by the root, tip, sweep angle, semispan and thickness. We create a second rocket with new fin parameters to simulate staging. The weight reduction is also accounted for."
   ]
  },
  {
   "cell_type": "code",
   "execution_count": 1,
   "id": "5ce14c54",
   "metadata": {},
   "outputs": [],
   "source": [
    "# function to change fin parameters\n",
    "\n",
    "def fin_resizing(LV4, root, tip, sweep, span, thickness, mass_red):\n",
    "    new_rocket = LV4\n",
    "    new_rocket.fin.root = root\n",
    "    new_rocket.fin.tip = tip\n",
    "    new_rocket.fin.sweep_angle = sweep\n",
    "    new_rocket.fin.semispan = span\n",
    "    new_rocket.fin.thickness = thickness\n",
    "    new_rocket.mass = new_rocket.mass - mass_red\n",
    "    return new_rocket"
   ]
  },
  {
   "cell_type": "markdown",
   "id": "1638eea4",
   "metadata": {},
   "source": [
    "Stability Margin: Find ideal drop time"
   ]
  },
  {
   "cell_type": "code",
   "execution_count": 2,
   "id": "f676db23",
   "metadata": {},
   "outputs": [],
   "source": [
    "# given 0.025 time step calculate the time at which we should drop the fins \n",
    "def find_drop_time(stability_list):\n",
    "    closeness = []\n",
    "    for item in stability_list:\n",
    "        closeness.append(abs(item - 2.0))\n",
    "    index = closeness.index(min(closeness))\n",
    "    return (index * 0.025)"
   ]
  }
 ],
 "metadata": {
  "kernelspec": {
   "display_name": "Python 3 (ipykernel)",
   "language": "python",
   "name": "python3"
  },
  "language_info": {
   "codemirror_mode": {
    "name": "ipython",
    "version": 3
   },
   "file_extension": ".py",
   "mimetype": "text/x-python",
   "name": "python",
   "nbconvert_exporter": "python",
   "pygments_lexer": "ipython3",
   "version": "3.7.11"
  }
 },
 "nbformat": 4,
 "nbformat_minor": 5
}
